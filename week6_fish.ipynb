{
  "nbformat": 4,
  "nbformat_minor": 0,
  "metadata": {
    "colab": {
      "provenance": [],
      "authorship_tag": "ABX9TyP9gIx81JMqsfNCOUtwhez0",
      "include_colab_link": true
    },
    "kernelspec": {
      "name": "python3",
      "display_name": "Python 3"
    },
    "language_info": {
      "name": "python"
    }
  },
  "cells": [
    {
      "cell_type": "markdown",
      "metadata": {
        "id": "view-in-github",
        "colab_type": "text"
      },
      "source": [
        "<a href=\"https://colab.research.google.com/github/maeliech/BigDataPhysics/blob/main/week6_fish.ipynb\" target=\"_parent\"><img src=\"https://colab.research.google.com/assets/colab-badge.svg\" alt=\"Open In Colab\"/></a>"
      ]
    },
    {
      "cell_type": "markdown",
      "source": [
        "# Week 6 report:\n",
        "## fish.txt"
      ],
      "metadata": {
        "id": "L8IKPSbv9IvB"
      }
    },
    {
      "cell_type": "markdown",
      "source": [
        "**Question 1:**\n",
        "\n",
        "To find the optimal values of a and b for the function f(x) = a + bx, where a = ln(A) and b = ln(L), we start by taking the partial derivatives of f(x) depending on a and b, and then try to find the critical points.\n",
        "\n",
        "Partial derivation of f(x) by a:\n",
        "∂f(x)/∂a = a' + (bx)' = (ln(A))' = 1\n",
        "\n",
        "Partial derivation of f(x) by b:\n",
        "∂f(x)/∂b = a' + (bx)' = (bx)' = 1 * x = ln(L)\n",
        "\n",
        "We look for ∂f(x)/∂a = 0 and we get 1 = 0, which is impossible. There is no critical point for a.\n",
        "\n",
        "We then look for ∂f(x)/∂b = 0, we get x = 0, which implies that the critical point depending on b is x = 0.\n",
        "\n",
        "Now, let's substitute a = ln(A) and b = ln(L) back into the original function f(x) = a + bx:\n",
        "\n",
        "f(x) = ln(A) + ln(L)b\n",
        "\n",
        "Since x = 0 is the critical point depending on b, we can substitute x = 0 into the function to find the optimal value of a:\n",
        "\n",
        "f(0) = ln(A) + ln(L) * 0\n",
        "f(0) = ln(A)\n",
        "\n",
        "We find that the optimal value of a is ln(A).\n",
        "\n",
        "In conclusion, the optimal values of a and b for the function f(x) = a + bx are ln(A) and ln(L) respectively."
      ],
      "metadata": {
        "id": "1v7BKGg5h23C"
      }
    },
    {
      "cell_type": "markdown",
      "source": [
        "**Question 2:**"
      ],
      "metadata": {
        "id": "8l--hJd8AQyp"
      }
    },
    {
      "cell_type": "code",
      "execution_count": 24,
      "metadata": {
        "id": "IoDsUw_ZX9-i",
        "colab": {
          "base_uri": "https://localhost:8080/",
          "height": 423
        },
        "outputId": "ddf2e055-bc89-47bd-93bb-0129acdf02ff"
      },
      "outputs": [
        {
          "output_type": "execute_result",
          "data": {
            "text/plain": [
              "       Code_ID Stream         Location      Family             Genus  \\\n",
              "0            1   Ebro  Miranda de Ebro  Cyprinidae          Cyprinus   \n",
              "1            1   Ebro  Miranda de Ebro  Cyprinidae          Cyprinus   \n",
              "2            1   Ebro  Miranda de Ebro  Cyprinidae          Cyprinus   \n",
              "3            1   Ebro  Miranda de Ebro  Cyprinidae          Cyprinus   \n",
              "4            1   Ebro  Miranda de Ebro  Cyprinidae       Luciobarbus   \n",
              "...        ...    ...              ...         ...               ...   \n",
              "12283      118   Ebro            Batea  Cyprinidae       Luciobarbus   \n",
              "12284      118   Ebro            Batea  Cyprinidae       Luciobarbus   \n",
              "12285      118   Ebro            Batea  Cyprinidae       Luciobarbus   \n",
              "12286      118   Ebro            Batea  Cyprinidae  Parachondrostoma   \n",
              "12287      118   Ebro            Batea  Cyprinidae       Luciobarbus   \n",
              "\n",
              "         Species          Scientific_name  Length_mm  Mass_g  \n",
              "0         carpio          Cyprinus carpio        442  1700.0  \n",
              "1         carpio          Cyprinus carpio        405  1220.0  \n",
              "2         carpio          Cyprinus carpio        373  1040.0  \n",
              "3         carpio          Cyprinus carpio        199   139.9  \n",
              "4      graellsii    Luciobarbus graellsii        225   133.0  \n",
              "...          ...                      ...        ...     ...  \n",
              "12283  graellsii    Luciobarbus graellsii         79     6.9  \n",
              "12284  graellsii    Luciobarbus graellsii         79     7.4  \n",
              "12285  graellsii    Luciobarbus graellsii        110    19.8  \n",
              "12286     miegii  Parachondrostoma miegii         63     2.8  \n",
              "12287  graellsii    Luciobarbus graellsii         72     5.8  \n",
              "\n",
              "[12288 rows x 9 columns]"
            ],
            "text/html": [
              "\n",
              "  <div id=\"df-e6485e57-56cd-4787-a2c9-1244a9f95081\">\n",
              "    <div class=\"colab-df-container\">\n",
              "      <div>\n",
              "<style scoped>\n",
              "    .dataframe tbody tr th:only-of-type {\n",
              "        vertical-align: middle;\n",
              "    }\n",
              "\n",
              "    .dataframe tbody tr th {\n",
              "        vertical-align: top;\n",
              "    }\n",
              "\n",
              "    .dataframe thead th {\n",
              "        text-align: right;\n",
              "    }\n",
              "</style>\n",
              "<table border=\"1\" class=\"dataframe\">\n",
              "  <thead>\n",
              "    <tr style=\"text-align: right;\">\n",
              "      <th></th>\n",
              "      <th>Code_ID</th>\n",
              "      <th>Stream</th>\n",
              "      <th>Location</th>\n",
              "      <th>Family</th>\n",
              "      <th>Genus</th>\n",
              "      <th>Species</th>\n",
              "      <th>Scientific_name</th>\n",
              "      <th>Length_mm</th>\n",
              "      <th>Mass_g</th>\n",
              "    </tr>\n",
              "  </thead>\n",
              "  <tbody>\n",
              "    <tr>\n",
              "      <th>0</th>\n",
              "      <td>1</td>\n",
              "      <td>Ebro</td>\n",
              "      <td>Miranda de Ebro</td>\n",
              "      <td>Cyprinidae</td>\n",
              "      <td>Cyprinus</td>\n",
              "      <td>carpio</td>\n",
              "      <td>Cyprinus carpio</td>\n",
              "      <td>442</td>\n",
              "      <td>1700.0</td>\n",
              "    </tr>\n",
              "    <tr>\n",
              "      <th>1</th>\n",
              "      <td>1</td>\n",
              "      <td>Ebro</td>\n",
              "      <td>Miranda de Ebro</td>\n",
              "      <td>Cyprinidae</td>\n",
              "      <td>Cyprinus</td>\n",
              "      <td>carpio</td>\n",
              "      <td>Cyprinus carpio</td>\n",
              "      <td>405</td>\n",
              "      <td>1220.0</td>\n",
              "    </tr>\n",
              "    <tr>\n",
              "      <th>2</th>\n",
              "      <td>1</td>\n",
              "      <td>Ebro</td>\n",
              "      <td>Miranda de Ebro</td>\n",
              "      <td>Cyprinidae</td>\n",
              "      <td>Cyprinus</td>\n",
              "      <td>carpio</td>\n",
              "      <td>Cyprinus carpio</td>\n",
              "      <td>373</td>\n",
              "      <td>1040.0</td>\n",
              "    </tr>\n",
              "    <tr>\n",
              "      <th>3</th>\n",
              "      <td>1</td>\n",
              "      <td>Ebro</td>\n",
              "      <td>Miranda de Ebro</td>\n",
              "      <td>Cyprinidae</td>\n",
              "      <td>Cyprinus</td>\n",
              "      <td>carpio</td>\n",
              "      <td>Cyprinus carpio</td>\n",
              "      <td>199</td>\n",
              "      <td>139.9</td>\n",
              "    </tr>\n",
              "    <tr>\n",
              "      <th>4</th>\n",
              "      <td>1</td>\n",
              "      <td>Ebro</td>\n",
              "      <td>Miranda de Ebro</td>\n",
              "      <td>Cyprinidae</td>\n",
              "      <td>Luciobarbus</td>\n",
              "      <td>graellsii</td>\n",
              "      <td>Luciobarbus graellsii</td>\n",
              "      <td>225</td>\n",
              "      <td>133.0</td>\n",
              "    </tr>\n",
              "    <tr>\n",
              "      <th>...</th>\n",
              "      <td>...</td>\n",
              "      <td>...</td>\n",
              "      <td>...</td>\n",
              "      <td>...</td>\n",
              "      <td>...</td>\n",
              "      <td>...</td>\n",
              "      <td>...</td>\n",
              "      <td>...</td>\n",
              "      <td>...</td>\n",
              "    </tr>\n",
              "    <tr>\n",
              "      <th>12283</th>\n",
              "      <td>118</td>\n",
              "      <td>Ebro</td>\n",
              "      <td>Batea</td>\n",
              "      <td>Cyprinidae</td>\n",
              "      <td>Luciobarbus</td>\n",
              "      <td>graellsii</td>\n",
              "      <td>Luciobarbus graellsii</td>\n",
              "      <td>79</td>\n",
              "      <td>6.9</td>\n",
              "    </tr>\n",
              "    <tr>\n",
              "      <th>12284</th>\n",
              "      <td>118</td>\n",
              "      <td>Ebro</td>\n",
              "      <td>Batea</td>\n",
              "      <td>Cyprinidae</td>\n",
              "      <td>Luciobarbus</td>\n",
              "      <td>graellsii</td>\n",
              "      <td>Luciobarbus graellsii</td>\n",
              "      <td>79</td>\n",
              "      <td>7.4</td>\n",
              "    </tr>\n",
              "    <tr>\n",
              "      <th>12285</th>\n",
              "      <td>118</td>\n",
              "      <td>Ebro</td>\n",
              "      <td>Batea</td>\n",
              "      <td>Cyprinidae</td>\n",
              "      <td>Luciobarbus</td>\n",
              "      <td>graellsii</td>\n",
              "      <td>Luciobarbus graellsii</td>\n",
              "      <td>110</td>\n",
              "      <td>19.8</td>\n",
              "    </tr>\n",
              "    <tr>\n",
              "      <th>12286</th>\n",
              "      <td>118</td>\n",
              "      <td>Ebro</td>\n",
              "      <td>Batea</td>\n",
              "      <td>Cyprinidae</td>\n",
              "      <td>Parachondrostoma</td>\n",
              "      <td>miegii</td>\n",
              "      <td>Parachondrostoma miegii</td>\n",
              "      <td>63</td>\n",
              "      <td>2.8</td>\n",
              "    </tr>\n",
              "    <tr>\n",
              "      <th>12287</th>\n",
              "      <td>118</td>\n",
              "      <td>Ebro</td>\n",
              "      <td>Batea</td>\n",
              "      <td>Cyprinidae</td>\n",
              "      <td>Luciobarbus</td>\n",
              "      <td>graellsii</td>\n",
              "      <td>Luciobarbus graellsii</td>\n",
              "      <td>72</td>\n",
              "      <td>5.8</td>\n",
              "    </tr>\n",
              "  </tbody>\n",
              "</table>\n",
              "<p>12288 rows × 9 columns</p>\n",
              "</div>\n",
              "      <button class=\"colab-df-convert\" onclick=\"convertToInteractive('df-e6485e57-56cd-4787-a2c9-1244a9f95081')\"\n",
              "              title=\"Convert this dataframe to an interactive table.\"\n",
              "              style=\"display:none;\">\n",
              "        \n",
              "  <svg xmlns=\"http://www.w3.org/2000/svg\" height=\"24px\"viewBox=\"0 0 24 24\"\n",
              "       width=\"24px\">\n",
              "    <path d=\"M0 0h24v24H0V0z\" fill=\"none\"/>\n",
              "    <path d=\"M18.56 5.44l.94 2.06.94-2.06 2.06-.94-2.06-.94-.94-2.06-.94 2.06-2.06.94zm-11 1L8.5 8.5l.94-2.06 2.06-.94-2.06-.94L8.5 2.5l-.94 2.06-2.06.94zm10 10l.94 2.06.94-2.06 2.06-.94-2.06-.94-.94-2.06-.94 2.06-2.06.94z\"/><path d=\"M17.41 7.96l-1.37-1.37c-.4-.4-.92-.59-1.43-.59-.52 0-1.04.2-1.43.59L10.3 9.45l-7.72 7.72c-.78.78-.78 2.05 0 2.83L4 21.41c.39.39.9.59 1.41.59.51 0 1.02-.2 1.41-.59l7.78-7.78 2.81-2.81c.8-.78.8-2.07 0-2.86zM5.41 20L4 18.59l7.72-7.72 1.47 1.35L5.41 20z\"/>\n",
              "  </svg>\n",
              "      </button>\n",
              "      \n",
              "  <style>\n",
              "    .colab-df-container {\n",
              "      display:flex;\n",
              "      flex-wrap:wrap;\n",
              "      gap: 12px;\n",
              "    }\n",
              "\n",
              "    .colab-df-convert {\n",
              "      background-color: #E8F0FE;\n",
              "      border: none;\n",
              "      border-radius: 50%;\n",
              "      cursor: pointer;\n",
              "      display: none;\n",
              "      fill: #1967D2;\n",
              "      height: 32px;\n",
              "      padding: 0 0 0 0;\n",
              "      width: 32px;\n",
              "    }\n",
              "\n",
              "    .colab-df-convert:hover {\n",
              "      background-color: #E2EBFA;\n",
              "      box-shadow: 0px 1px 2px rgba(60, 64, 67, 0.3), 0px 1px 3px 1px rgba(60, 64, 67, 0.15);\n",
              "      fill: #174EA6;\n",
              "    }\n",
              "\n",
              "    [theme=dark] .colab-df-convert {\n",
              "      background-color: #3B4455;\n",
              "      fill: #D2E3FC;\n",
              "    }\n",
              "\n",
              "    [theme=dark] .colab-df-convert:hover {\n",
              "      background-color: #434B5C;\n",
              "      box-shadow: 0px 1px 3px 1px rgba(0, 0, 0, 0.15);\n",
              "      filter: drop-shadow(0px 1px 2px rgba(0, 0, 0, 0.3));\n",
              "      fill: #FFFFFF;\n",
              "    }\n",
              "  </style>\n",
              "\n",
              "      <script>\n",
              "        const buttonEl =\n",
              "          document.querySelector('#df-e6485e57-56cd-4787-a2c9-1244a9f95081 button.colab-df-convert');\n",
              "        buttonEl.style.display =\n",
              "          google.colab.kernel.accessAllowed ? 'block' : 'none';\n",
              "\n",
              "        async function convertToInteractive(key) {\n",
              "          const element = document.querySelector('#df-e6485e57-56cd-4787-a2c9-1244a9f95081');\n",
              "          const dataTable =\n",
              "            await google.colab.kernel.invokeFunction('convertToInteractive',\n",
              "                                                     [key], {});\n",
              "          if (!dataTable) return;\n",
              "\n",
              "          const docLinkHtml = 'Like what you see? Visit the ' +\n",
              "            '<a target=\"_blank\" href=https://colab.research.google.com/notebooks/data_table.ipynb>data table notebook</a>'\n",
              "            + ' to learn more about interactive tables.';\n",
              "          element.innerHTML = '';\n",
              "          dataTable['output_type'] = 'display_data';\n",
              "          await google.colab.output.renderOutput(dataTable, element);\n",
              "          const docLink = document.createElement('div');\n",
              "          docLink.innerHTML = docLinkHtml;\n",
              "          element.appendChild(docLink);\n",
              "        }\n",
              "      </script>\n",
              "    </div>\n",
              "  </div>\n",
              "  "
            ]
          },
          "metadata": {},
          "execution_count": 24
        }
      ],
      "source": [
        "import numpy as np\n",
        "import matplotlib.pyplot as plt\n",
        "import pandas as pd\n",
        "\n",
        "fish = pd.read_csv('/content/fish.txt', sep='\\t') #renaming columns and separating them using the space character\n",
        "fish"
      ]
    },
    {
      "cell_type": "code",
      "source": [
        "print(fish.isna().sum())"
      ],
      "metadata": {
        "colab": {
          "base_uri": "https://localhost:8080/"
        },
        "id": "cMD1KYJTZ87-",
        "outputId": "4de6d8a5-0061-4296-bd94-4d478cb82759"
      },
      "execution_count": 25,
      "outputs": [
        {
          "output_type": "stream",
          "name": "stdout",
          "text": [
            "Code_ID            0\n",
            "Stream             0\n",
            "Location           0\n",
            "Family             0\n",
            "Genus              0\n",
            "Species            0\n",
            "Scientific_name    0\n",
            "Length_mm          0\n",
            "Mass_g             0\n",
            "dtype: int64\n"
          ]
        }
      ]
    },
    {
      "cell_type": "markdown",
      "source": [
        "We check the values are ok"
      ],
      "metadata": {
        "id": "8AaUoFMD8K72"
      }
    },
    {
      "cell_type": "code",
      "source": [
        "weight = fish['Mass_g']\n",
        "length = fish['Length_mm']"
      ],
      "metadata": {
        "id": "iMgYVvujY4Ze"
      },
      "execution_count": 26,
      "outputs": []
    },
    {
      "cell_type": "markdown",
      "source": [
        "Selecting the wanted values, weight and length"
      ],
      "metadata": {
        "id": "1sne_Ib9ClTN"
      }
    },
    {
      "cell_type": "code",
      "source": [
        "#ln:\n",
        "a = np.log10(weight)\n",
        "b = np.log10(length)\n",
        "M = a+b"
      ],
      "metadata": {
        "id": "OZToBHLzbZSZ"
      },
      "execution_count": 27,
      "outputs": []
    },
    {
      "cell_type": "markdown",
      "source": [
        "We compute the logarithms of the weight and length in accordance with the subject\n",
        "\n"
      ],
      "metadata": {
        "id": "fO5Ww3Td8PSS"
      }
    },
    {
      "cell_type": "code",
      "source": [
        "array=[]\n",
        "def fun(x):\n",
        "  return a + b*x\n",
        "\n",
        "for i in range(10):\n",
        "  array.append(fun(i))"
      ],
      "metadata": {
        "id": "8shLA1BBb3lC"
      },
      "execution_count": 28,
      "outputs": []
    },
    {
      "cell_type": "markdown",
      "source": [
        "Our subject can be translated into a function f as shown above"
      ],
      "metadata": {
        "id": "8py_2O42CrqT"
      }
    },
    {
      "cell_type": "code",
      "source": [
        "slope=(np.mean(a*b)-np.mean(a)*np.mean(b))/np.std(a)**2\n",
        "intercept=(np.mean(a*a)*np.mean(b)-np.mean(a*b)*np.mean(a))/np.std(a)**2\n",
        "print(slope,intercept)"
      ],
      "metadata": {
        "colab": {
          "base_uri": "https://localhost:8080/"
        },
        "id": "6y4Gq6hSZmx1",
        "outputId": "0d205688-6ee6-40d0-e193-c876f0a1d2cf"
      },
      "execution_count": 29,
      "outputs": [
        {
          "output_type": "stream",
          "name": "stdout",
          "text": [
            "0.31215406974177434 1.6641423717371753\n"
          ]
        }
      ]
    },
    {
      "cell_type": "code",
      "source": [
        "model=lambda a:a*slope+intercept # defining linear model\n",
        "\n",
        "plt.scatter(a,b,label='log10 of weight and length',s=10,alpha=0.2,c='b') #displaying the relations between weight and length\n",
        "plt.plot(a,model(a),label='model',c='r')\n",
        "plt.legend()"
      ],
      "metadata": {
        "colab": {
          "base_uri": "https://localhost:8080/",
          "height": 448
        },
        "id": "ZesHeWADZMFm",
        "outputId": "928f2663-4b39-48f0-89aa-37bd07de4664"
      },
      "execution_count": 30,
      "outputs": [
        {
          "output_type": "execute_result",
          "data": {
            "text/plain": [
              "<matplotlib.legend.Legend at 0x7f71928adf40>"
            ]
          },
          "metadata": {},
          "execution_count": 30
        },
        {
          "output_type": "display_data",
          "data": {
            "text/plain": [
              "<Figure size 640x480 with 1 Axes>"
            ],
            "image/png": "[encoded data removed]"
          },
          "metadata": {}
        }
      ]
    },
    {
      "cell_type": "code",
      "source": [
        "from scipy.stats import linregress # scipy module from labs\n",
        "linregress(a,b)"
      ],
      "metadata": {
        "colab": {
          "base_uri": "https://localhost:8080/"
        },
        "id": "nqdfp4XAZxj-",
        "outputId": "cf832f90-da4d-41ae-e89a-7d6f13faea3c"
      },
      "execution_count": 31,
      "outputs": [
        {
          "output_type": "execute_result",
          "data": {
            "text/plain": [
              "LinregressResult(slope=0.31215406974177495, intercept=1.6641423717371753, rvalue=0.9862089334727002, pvalue=0.0, stderr=0.00047261359036380654, intercept_stderr=0.0005336345530059875)"
            ]
          },
          "metadata": {},
          "execution_count": 31
        }
      ]
    },
    {
      "cell_type": "code",
      "source": [
        "x=a\n",
        "y=b"
      ],
      "metadata": {
        "id": "q5XUu0tWCHtL"
      },
      "execution_count": 32,
      "outputs": []
    },
    {
      "cell_type": "code",
      "source": [
        "def MSE(x,y,slope,intercept):\n",
        "  y_model=x*slope+intercept\n",
        "  return np.mean((y-y_model)**2)\n",
        "\n",
        "def dEda(x,y,slope,intercept,delta=0.0001):\n",
        "  return (MSE(x,y,slope+delta/2,intercept)-MSE(x,y,slope-delta/2,intercept))/delta\n",
        "\n",
        "def dEdb(x,y,slope,intercept,delta=0.0001):\n",
        "  return (MSE(x,y,slope,intercept+delta/2)-MSE(x,y,slope,intercept-delta/2))/delta\n",
        "\n",
        "def Gradient(x,y,epsilon=0.00001,c=0.02):\n",
        "  slope,intercept=2,2\n",
        "  slope_next,intercept_next=np.random.random(2)\n",
        "\n",
        "  while abs(slope_next-slope)>epsilon or abs(intercept_next-intercept)>epsilon:\n",
        "    slope,intercept = slope_next,intercept_next\n",
        "    slope_next=slope - c*dEda(x,y,slope,intercept)\n",
        "    intercept_next=intercept - c*dEdb(x,y,slope,intercept)\n",
        "  return slope,intercept"
      ],
      "metadata": {
        "id": "fGnGoq8sZzAX"
      },
      "execution_count": 33,
      "outputs": []
    },
    {
      "cell_type": "markdown",
      "source": [
        "We follow the methods seen in class during our labs."
      ],
      "metadata": {
        "id": "3Xg0nF5EC7LL"
      }
    },
    {
      "cell_type": "code",
      "source": [
        "Gradient(x,y)"
      ],
      "metadata": {
        "colab": {
          "base_uri": "https://localhost:8080/"
        },
        "id": "IU6D6xSXZ0aM",
        "outputId": "7401650a-fd4a-4f66-b13d-fb4a531e20cc"
      },
      "execution_count": 34,
      "outputs": [
        {
          "output_type": "execute_result",
          "data": {
            "text/plain": [
              "(0.3128262761905804, 1.6633467825434538)"
            ]
          },
          "metadata": {},
          "execution_count": 34
        }
      ]
    },
    {
      "cell_type": "markdown",
      "source": [
        "The values obtained by different methods are very close."
      ],
      "metadata": {
        "id": "SW8vNl_n5pLE"
      }
    }
  ]
}