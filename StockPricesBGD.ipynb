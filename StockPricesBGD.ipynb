{
  "nbformat": 4,
  "nbformat_minor": 0,
  "metadata": {
    "colab": {
      "provenance": [],
      "authorship_tag": "ABX9TyM73yYzvPPkHTLm+txvY/KL",
      "include_colab_link": true
    },
    "kernelspec": {
      "name": "python3",
      "display_name": "Python 3"
    },
    "language_info": {
      "name": "python"
    }
  },
  "cells": [
    {
      "cell_type": "markdown",
      "metadata": {
        "id": "view-in-github",
        "colab_type": "text"
      },
      "source": [
        "<a href=\"https://colab.research.google.com/github/maeliech/BigDataPhysics/blob/main/StockPricesBGD.ipynb\" target=\"_parent\"><img src=\"https://colab.research.google.com/assets/colab-badge.svg\" alt=\"Open In Colab\"/></a>"
      ]
    },
    {
      "cell_type": "markdown",
      "source": [
        "#Analyzing Stock Prices"
      ],
      "metadata": {
        "id": "aesyXjBeSHUd"
      }
    },
    {
      "cell_type": "code",
      "source": [
        "import yfinance as yf\n",
        "from datetime import datetime, timedelta\n",
        "import numpy as np\n",
        "import matplotlib.pyplot as plt\n",
        "import pandas as pd"
      ],
      "metadata": {
        "id": "CvSxT-AaSytM"
      },
      "execution_count": 2,
      "outputs": []
    },
    {
      "cell_type": "markdown",
      "source": [
        "1. Get a daily stock price or the return in yahoo/finance. (See Ref. 2)"
      ],
      "metadata": {
        "id": "fazqMnk9SOQ6"
      }
    },
    {
      "cell_type": "markdown",
      "source": [
        "Other tickers are: CAT, HYMC, JNJ"
      ],
      "metadata": {
        "id": "aNaiIuVE5nI9"
      }
    },
    {
      "cell_type": "code",
      "source": [
        "start_date = '2019-01-01'\n",
        "end_date = '2023-01-01' \n",
        "\n",
        "ticker = 'AMZN'\n",
        "\n",
        "datad = yf.download(ticker, start_date, end_date)\n",
        "prices_o = datad['Open']\n",
        "prices_o.tail()"
      ],
      "metadata": {
        "colab": {
          "base_uri": "https://localhost:8080/"
        },
        "id": "gNM05V6BSVU8",
        "outputId": "e1774bd4-c195-4336-a071-514c743db6b4"
      },
      "execution_count": 8,
      "outputs": [
        {
          "output_type": "stream",
          "name": "stdout",
          "text": [
            "\r[*********************100%***********************]  1 of 1 completed\n"
          ]
        },
        {
          "output_type": "execute_result",
          "data": {
            "text/plain": [
              "Date\n",
              "2022-12-23    83.250000\n",
              "2022-12-27    84.970001\n",
              "2022-12-28    82.800003\n",
              "2022-12-29    82.870003\n",
              "2022-12-30    83.120003\n",
              "Name: Open, dtype: float64"
            ]
          },
          "metadata": {},
          "execution_count": 8
        }
      ]
    },
    {
      "cell_type": "markdown",
      "source": [
        "2. Calculate and plot the autocorrelation for a stock."
      ],
      "metadata": {
        "id": "FkaMxj7zSSeb"
      }
    },
    {
      "cell_type": "code",
      "execution_count": 9,
      "metadata": {
        "colab": {
          "base_uri": "https://localhost:8080/",
          "height": 484
        },
        "id": "Xd4L7Vh1SEsU",
        "outputId": "0e074734-2634-4447-aaa5-f9e706dcbfc6"
      },
      "outputs": [
        {
          "output_type": "stream",
          "name": "stdout",
          "text": [
            "\r[*********************100%***********************]  1 of 1 completed\n",
            "1121.257789958083\n"
          ]
        },
        {
          "output_type": "display_data",
          "data": {
            "text/plain": [
              "<Figure size 640x480 with 1 Axes>"
            ],
            "image/png": "[encoded data removed]"
          },
          "metadata": {}
        }
      ],
      "source": [
        "datad = datad = yf.download(ticker, '2020-01-01', '2023-01-01')\n",
        "data = prices_o\n",
        "mean = data.mean()\n",
        "var = data.var()\n",
        "print(var)\n",
        "res = []\n",
        "\n",
        "for tau in range(1,100):\n",
        "  arr1 = data[:-tau] - mean\n",
        "  arr2 = data[tau:] - mean\n",
        "  auto = (arr1*arr2).mean()/var\n",
        "  res.append([tau,auto])\n",
        "\n",
        "res = np.array(res)\n",
        "plt.plot(res[:,0],res[:,1])\n",
        "plt.xlabel(\"tau\") \n",
        "plt.ylabel(\"autocorrelation\")\n",
        "plt.show()"
      ]
    },
    {
      "cell_type": "markdown",
      "source": [
        "3. Get several stock prices. (See Refs)"
      ],
      "metadata": {
        "id": "i7e3iVv3SWDj"
      }
    },
    {
      "cell_type": "code",
      "source": [
        "prices = datad[['Open','Close']]\n",
        "prices.tail()"
      ],
      "metadata": {
        "colab": {
          "base_uri": "https://localhost:8080/",
          "height": 237
        },
        "id": "q3t7YYNGSWa8",
        "outputId": "b8ceaa49-950b-45ed-f983-e82fcd744d89"
      },
      "execution_count": 11,
      "outputs": [
        {
          "output_type": "execute_result",
          "data": {
            "text/plain": [
              "                 Open      Close\n",
              "Date                            \n",
              "2022-12-23  83.250000  85.250000\n",
              "2022-12-27  84.970001  83.040001\n",
              "2022-12-28  82.800003  81.820000\n",
              "2022-12-29  82.870003  84.180000\n",
              "2022-12-30  83.120003  84.000000"
            ],
            "text/html": [
              "\n",
              "  <div id=\"df-f8d886f8-1b04-4d0c-9b3b-20b5a8109b3a\">\n",
              "    <div class=\"colab-df-container\">\n",
              "      <div>\n",
              "<style scoped>\n",
              "    .dataframe tbody tr th:only-of-type {\n",
              "        vertical-align: middle;\n",
              "    }\n",
              "\n",
              "    .dataframe tbody tr th {\n",
              "        vertical-align: top;\n",
              "    }\n",
              "\n",
              "    .dataframe thead th {\n",
              "        text-align: right;\n",
              "    }\n",
              "</style>\n",
              "<table border=\"1\" class=\"dataframe\">\n",
              "  <thead>\n",
              "    <tr style=\"text-align: right;\">\n",
              "      <th></th>\n",
              "      <th>Open</th>\n",
              "      <th>Close</th>\n",
              "    </tr>\n",
              "    <tr>\n",
              "      <th>Date</th>\n",
              "      <th></th>\n",
              "      <th></th>\n",
              "    </tr>\n",
              "  </thead>\n",
              "  <tbody>\n",
              "    <tr>\n",
              "      <th>2022-12-23</th>\n",
              "      <td>83.250000</td>\n",
              "      <td>85.250000</td>\n",
              "    </tr>\n",
              "    <tr>\n",
              "      <th>2022-12-27</th>\n",
              "      <td>84.970001</td>\n",
              "      <td>83.040001</td>\n",
              "    </tr>\n",
              "    <tr>\n",
              "      <th>2022-12-28</th>\n",
              "      <td>82.800003</td>\n",
              "      <td>81.820000</td>\n",
              "    </tr>\n",
              "    <tr>\n",
              "      <th>2022-12-29</th>\n",
              "      <td>82.870003</td>\n",
              "      <td>84.180000</td>\n",
              "    </tr>\n",
              "    <tr>\n",
              "      <th>2022-12-30</th>\n",
              "      <td>83.120003</td>\n",
              "      <td>84.000000</td>\n",
              "    </tr>\n",
              "  </tbody>\n",
              "</table>\n",
              "</div>\n",
              "      <button class=\"colab-df-convert\" onclick=\"convertToInteractive('df-f8d886f8-1b04-4d0c-9b3b-20b5a8109b3a')\"\n",
              "              title=\"Convert this dataframe to an interactive table.\"\n",
              "              style=\"display:none;\">\n",
              "        \n",
              "  <svg xmlns=\"http://www.w3.org/2000/svg\" height=\"24px\"viewBox=\"0 0 24 24\"\n",
              "       width=\"24px\">\n",
              "    <path d=\"M0 0h24v24H0V0z\" fill=\"none\"/>\n",
              "    <path d=\"M18.56 5.44l.94 2.06.94-2.06 2.06-.94-2.06-.94-.94-2.06-.94 2.06-2.06.94zm-11 1L8.5 8.5l.94-2.06 2.06-.94-2.06-.94L8.5 2.5l-.94 2.06-2.06.94zm10 10l.94 2.06.94-2.06 2.06-.94-2.06-.94-.94-2.06-.94 2.06-2.06.94z\"/><path d=\"M17.41 7.96l-1.37-1.37c-.4-.4-.92-.59-1.43-.59-.52 0-1.04.2-1.43.59L10.3 9.45l-7.72 7.72c-.78.78-.78 2.05 0 2.83L4 21.41c.39.39.9.59 1.41.59.51 0 1.02-.2 1.41-.59l7.78-7.78 2.81-2.81c.8-.78.8-2.07 0-2.86zM5.41 20L4 18.59l7.72-7.72 1.47 1.35L5.41 20z\"/>\n",
              "  </svg>\n",
              "      </button>\n",
              "      \n",
              "  <style>\n",
              "    .colab-df-container {\n",
              "      display:flex;\n",
              "      flex-wrap:wrap;\n",
              "      gap: 12px;\n",
              "    }\n",
              "\n",
              "    .colab-df-convert {\n",
              "      background-color: #E8F0FE;\n",
              "      border: none;\n",
              "      border-radius: 50%;\n",
              "      cursor: pointer;\n",
              "      display: none;\n",
              "      fill: #1967D2;\n",
              "      height: 32px;\n",
              "      padding: 0 0 0 0;\n",
              "      width: 32px;\n",
              "    }\n",
              "\n",
              "    .colab-df-convert:hover {\n",
              "      background-color: #E2EBFA;\n",
              "      box-shadow: 0px 1px 2px rgba(60, 64, 67, 0.3), 0px 1px 3px 1px rgba(60, 64, 67, 0.15);\n",
              "      fill: #174EA6;\n",
              "    }\n",
              "\n",
              "    [theme=dark] .colab-df-convert {\n",
              "      background-color: #3B4455;\n",
              "      fill: #D2E3FC;\n",
              "    }\n",
              "\n",
              "    [theme=dark] .colab-df-convert:hover {\n",
              "      background-color: #434B5C;\n",
              "      box-shadow: 0px 1px 3px 1px rgba(0, 0, 0, 0.15);\n",
              "      filter: drop-shadow(0px 1px 2px rgba(0, 0, 0, 0.3));\n",
              "      fill: #FFFFFF;\n",
              "    }\n",
              "  </style>\n",
              "\n",
              "      <script>\n",
              "        const buttonEl =\n",
              "          document.querySelector('#df-f8d886f8-1b04-4d0c-9b3b-20b5a8109b3a button.colab-df-convert');\n",
              "        buttonEl.style.display =\n",
              "          google.colab.kernel.accessAllowed ? 'block' : 'none';\n",
              "\n",
              "        async function convertToInteractive(key) {\n",
              "          const element = document.querySelector('#df-f8d886f8-1b04-4d0c-9b3b-20b5a8109b3a');\n",
              "          const dataTable =\n",
              "            await google.colab.kernel.invokeFunction('convertToInteractive',\n",
              "                                                     [key], {});\n",
              "          if (!dataTable) return;\n",
              "\n",
              "          const docLinkHtml = 'Like what you see? Visit the ' +\n",
              "            '<a target=\"_blank\" href=https://colab.research.google.com/notebooks/data_table.ipynb>data table notebook</a>'\n",
              "            + ' to learn more about interactive tables.';\n",
              "          element.innerHTML = '';\n",
              "          dataTable['output_type'] = 'display_data';\n",
              "          await google.colab.output.renderOutput(dataTable, element);\n",
              "          const docLink = document.createElement('div');\n",
              "          docLink.innerHTML = docLinkHtml;\n",
              "          element.appendChild(docLink);\n",
              "        }\n",
              "      </script>\n",
              "    </div>\n",
              "  </div>\n",
              "  "
            ]
          },
          "metadata": {},
          "execution_count": 11
        }
      ]
    },
    {
      "cell_type": "markdown",
      "source": [
        "4. Calculate and plot Pearson correlation coefficients of the price or the return between two stocks"
      ],
      "metadata": {
        "id": "FtcwGB0hSaGd"
      }
    },
    {
      "cell_type": "code",
      "source": [
        "stock1 = yf.download('AMZN', '2020-01-01', '2022-01-01')\n",
        "stock2 = yf.download('GLD', '2020-01-01', '2022-01-01')\n",
        "stock1_o = stock1['Open']\n",
        "stock2_o = stock2['Open']\n",
        "print(np.corrcoef(stock1_o,stock2_o))"
      ],
      "metadata": {
        "colab": {
          "base_uri": "https://localhost:8080/"
        },
        "id": "bI3WOC7ESeAb",
        "outputId": "fdc07103-89e8-4c21-e448-2234c226e0c0"
      },
      "execution_count": 16,
      "outputs": [
        {
          "output_type": "stream",
          "name": "stdout",
          "text": [
            "[*********************100%***********************]  1 of 1 completed\n",
            "[*********************100%***********************]  1 of 1 completed\n",
            "[[1.         0.71511812]\n",
            " [0.71511812 1.        ]]\n"
          ]
        }
      ]
    },
    {
      "cell_type": "markdown",
      "source": [
        "Between the AMZN and the GLD stocks, we have the above correlation coefficient for their open prices."
      ],
      "metadata": {
        "id": "fnuKJ5CB4ebW"
      }
    }
  ]
}